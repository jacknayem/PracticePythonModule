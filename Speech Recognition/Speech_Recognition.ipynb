{
 "cells": [
  {
   "cell_type": "markdown",
   "metadata": {},
   "source": [
    "# Recognize Speech input from Microphone"
   ]
  },
  {
   "cell_type": "code",
   "execution_count": 1,
   "metadata": {},
   "outputs": [],
   "source": [
    "#Define module\n",
    "import speech_recognition as sr\n",
    "from os import path\n",
    "from pprint import pprint\n",
    "import time"
   ]
  },
  {
   "cell_type": "code",
   "execution_count": 10,
   "metadata": {},
   "outputs": [
    {
     "name": "stdout",
     "output_type": "stream",
     "text": [
      "Speak something....\n",
      "Sphinx error; missing PocketSphinx module: ensure that PocketSphinx is set up correctly.\n"
     ]
    }
   ],
   "source": [
    "#Initial a reconizer to take speech\n",
    "engine = sr.Recognizer()\n",
    "with sr.Microphone() as source:\n",
    "    print('Speak something....')\n",
    "    #The listen function used to obtain speech\n",
    "    audio = engine.listen(source)\n",
    "\n",
    "# recognize speech using Sphinx\n",
    "try:\n",
    "    text = engine.recognize_sphinx(audio)\n",
    "    print(\"Sphinx thinks you said {}\".format(text) )\n",
    "except sr.UnknownValueError:\n",
    "    print(\"Sphinx could not understand audio\")\n",
    "except sr.RequestError as e:\n",
    "    print(\"Sphinx error; {0}\".format(e))"
   ]
  },
  {
   "cell_type": "code",
   "execution_count": 3,
   "metadata": {},
   "outputs": [
    {
     "name": "stdout",
     "output_type": "stream",
     "text": [
      "Speak Something...\n",
      "You said: hello\n"
     ]
    }
   ],
   "source": [
    "# Take the audio data\n",
    "with sr.Microphone() as source:\n",
    "    print('Speak Something...')\n",
    "    audio = engine.listen(source)\n",
    "    \n",
    "#Recognize speech using recoznize google\n",
    "try:\n",
    "    text = engine.recognize_google(audio)\n",
    "    print('You said: {}'.format(text))\n",
    "except sr.UnknownValueError:\n",
    "    print('Google can not understand the audio')\n",
    "except sr.RequestError as e:\n",
    "    print(\"Google error: {}\".format(e))"
   ]
  },
  {
   "cell_type": "code",
   "execution_count": 5,
   "metadata": {},
   "outputs": [],
   "source": [
    "# Define a listenSpeech function the take a human speech\n",
    "def listenSpeech():\n",
    "    with sr.Microphone() as device:\n",
    "        print('Speak out...')\n",
    "        audio = engine.listen(device)"
   ]
  },
  {
   "cell_type": "code",
   "execution_count": 6,
   "metadata": {},
   "outputs": [
    {
     "name": "stdout",
     "output_type": "stream",
     "text": [
      "Speak out...\n",
      "Google Speech error: missing google-api-python-client module: ensure that google-api-python-client is set up correctly.\n"
     ]
    }
   ],
   "source": [
    "listenSpeech()\n",
    "try:\n",
    "    text = engine.recognize_google_cloud(audio)\n",
    "    print('You said {}'.format())\n",
    "except sr.UnknownValueError:\n",
    "    print('Speech Recognizer engine can not understand the speech')\n",
    "except sr.RequestError as e:\n",
    "    print('Google Speech error: {}'.format(e))"
   ]
  },
  {
   "cell_type": "markdown",
   "metadata": {},
   "source": [
    "Using the same way I could use\n",
    "* sr.recognize.wit(audio) for Wit.ai\n",
    "* sr.recongize.bing(audio) for Microsoft Bing Voice Recognition\n",
    "* sr.recongnize.azure(audio) for Microsoft Azure Speech\n",
    "* sr.recongnize.houndify(audio) for Houndify API\n",
    "* sr.recongnize.ibm(audio) for IMB Speech to Text"
   ]
  },
  {
   "cell_type": "markdown",
   "metadata": {},
   "source": [
    "# Conver audio file into text"
   ]
  },
  {
   "cell_type": "code",
   "execution_count": 23,
   "metadata": {},
   "outputs": [],
   "source": []
  },
  {
   "cell_type": "code",
   "execution_count": 46,
   "metadata": {},
   "outputs": [],
   "source": [
    "AUDIO_FILE = path.join(path.dirname(path.realpath('PythonPractice')),'english.wav')"
   ]
  },
  {
   "cell_type": "code",
   "execution_count": 47,
   "metadata": {},
   "outputs": [],
   "source": [
    "# Use the audio file to recognize the record\n",
    "engine = sr.Recognizer()\n",
    "with sr.AudioFile(AUDIO_FILE) as source:\n",
    "    audio = engine.record(source)"
   ]
  },
  {
   "cell_type": "code",
   "execution_count": 48,
   "metadata": {},
   "outputs": [],
   "source": [
    "# Define a functon to recognie the audio for convert to text\n",
    "def GoogleRecognizer():\n",
    "    try:\n",
    "        text = engine.recognize_google(audio)\n",
    "        print('Your audio file text is: {}'.format(text))\n",
    "    except sr.UnknownValueError:\n",
    "        print('I do not understand any thig')\n",
    "    except sr.RequestError as e:\n",
    "        print('A error arise is, {}'.format(e))"
   ]
  },
  {
   "cell_type": "code",
   "execution_count": 49,
   "metadata": {},
   "outputs": [
    {
     "name": "stdout",
     "output_type": "stream",
     "text": [
      "Your audio file text is: super bahut cleaners are the most violent and complex class volcanoes\n"
     ]
    }
   ],
   "source": [
    "GoogleRecognizer()"
   ]
  },
  {
   "cell_type": "markdown",
   "metadata": {},
   "source": [
    "Same way I could use all other speech recognition engine"
   ]
  },
  {
   "cell_type": "markdown",
   "metadata": {},
   "source": [
    "# Save audio data into a audio file"
   ]
  },
  {
   "cell_type": "markdown",
   "metadata": {},
   "source": [
    "The speechrecognition module providing many audio saving format. Those are raw, wav, aiff and flac."
   ]
  },
  {
   "cell_type": "code",
   "execution_count": 37,
   "metadata": {},
   "outputs": [
    {
     "name": "stdout",
     "output_type": "stream",
     "text": [
      "Speak out...\n",
      "Recording saved\n"
     ]
    }
   ],
   "source": [
    "engine = sr.Recognizer()\n",
    "with sr.Microphone() as source:\n",
    "    print('Speak out...')\n",
    "    audio = engine.listen(source)\n",
    "\n",
    "with open(\"recoreFile.wav\", \"wb\") as f:\n",
    "    f.write(audio.get_wav_data())\n",
    "print('Recording saved')"
   ]
  },
  {
   "cell_type": "markdown",
   "metadata": {},
   "source": [
    "# Extended result"
   ]
  },
  {
   "cell_type": "code",
   "execution_count": 55,
   "metadata": {},
   "outputs": [
    {
     "name": "stdout",
     "output_type": "stream",
     "text": [
      "Google Recongnition\n",
      "{'alternative': [{'confidence': 0.83006132,\n",
      "                  'transcript': 'super bahut cleaners are the most violent and '\n",
      "                                'complex class volcanoes'},\n",
      "                 {'transcript': 'super bahut cleaners are the most violent in '\n",
      "                                'complex class volcanoes'},\n",
      "                 {'transcript': 'super bahut cleaners are the most violent in '\n",
      "                                'complex class working hours'},\n",
      "                 {'transcript': 'super bahut cleaners are the most violent and '\n",
      "                                'complex class working hours'},\n",
      "                 {'transcript': 'super bahut cleaners are the most violent and '\n",
      "                                'complex class II volcanoes'}],\n",
      " 'final': True}\n"
     ]
    }
   ],
   "source": [
    "# Indenfie targeted file\n",
    "AUDIO_FILE = path.join(path.dirname(path.realpath(\"PythonPractice\")),\"english.wav\")\n",
    "\n",
    "# Recognize the speech\n",
    "engine = sr.Recognizer()\n",
    "with sr.AudioFile(AUDIO_FILE) as source:\n",
    "    audio = engine.record(source)\n",
    "\n",
    "try:\n",
    "    print(\"Google Recongnition\")\n",
    "    pprint(engine.recognize_google(audio,show_all=True))\n",
    "except sr.UnknownValueError:\n",
    "    print(\"Google Speech Recognition could not understand audio\")\n",
    "except sr.RequestError as e:\n",
    "    print('Error: {}'.format(e))"
   ]
  },
  {
   "cell_type": "markdown",
   "metadata": {},
   "source": [
    "# Calibrating the recognizer energy"
   ]
  },
  {
   "cell_type": "markdown",
   "metadata": {},
   "source": [
    "Sometime, it is very defficult to recognize the speech by a microphone device, beacause the microphone is sensitive.\n",
    "It colud take a load of noise. Using adjust_for_ambient_noise function is use to increase recognization capability. "
   ]
  },
  {
   "cell_type": "code",
   "execution_count": 63,
   "metadata": {},
   "outputs": [
    {
     "name": "stdout",
     "output_type": "stream",
     "text": [
      "Speak Out ...\n",
      "You said: testing hello\n"
     ]
    }
   ],
   "source": [
    "engine = sr.Recognizer()\n",
    "with sr.Microphone() as source:\n",
    "    engine.adjust_for_ambient_noise(source)\n",
    "    print('Speak Out ...')\n",
    "    audio = engine.listen(source)\n",
    "\n",
    "try:\n",
    "    text = engine.recognize_google(audio)\n",
    "    print(\"You said: {}\".format(text))\n",
    "except UnknowValueError:\n",
    "    print('Microphone does not understand you speech')\n",
    "except RequestError as e:\n",
    "    print(\"The Error: {}\".format(e))"
   ]
  },
  {
   "cell_type": "markdown",
   "metadata": {},
   "source": [
    "# Background listening"
   ]
  },
  {
   "cell_type": "code",
   "execution_count": null,
   "metadata": {
    "scrolled": false
   },
   "outputs": [
    {
     "name": "stdout",
     "output_type": "stream",
     "text": [
      "The error is recognition connection failed: [Errno 11001] getaddrinfo failed\n"
     ]
    }
   ],
   "source": [
    "def callback(recognizer, audio):\n",
    "    try:\n",
    "        print('You said: '+ recognizer.recognize_google(audio))\n",
    "    except sr.UnknownValueError:\n",
    "        print('Recognizer do not understand your speech')\n",
    "    except sr.RequestError as e:\n",
    "        print('The error is {}'.format(e))\n",
    "\n",
    "engine = sr.Recognizer()\n",
    "microphone = sr.Microphone()\n",
    "with microphone as source:\n",
    "    engine.adjust_for_ambient_noise(source)\n",
    "\n",
    "stop_listening = engine.listen_in_background(microphone, callback)\n",
    "\n",
    "for _ in range(10):time.sleep(0.1)\n",
    "\n",
    "stop_listening(wait_for_stop = False)\n",
    "\n",
    "while True: time.sleep(0.1)"
   ]
  }
 ],
 "metadata": {
  "kernelspec": {
   "display_name": "Python 3",
   "language": "python",
   "name": "python3"
  },
  "language_info": {
   "codemirror_mode": {
    "name": "ipython",
    "version": 3
   },
   "file_extension": ".py",
   "mimetype": "text/x-python",
   "name": "python",
   "nbconvert_exporter": "python",
   "pygments_lexer": "ipython3",
   "version": "3.7.1"
  }
 },
 "nbformat": 4,
 "nbformat_minor": 4
}
