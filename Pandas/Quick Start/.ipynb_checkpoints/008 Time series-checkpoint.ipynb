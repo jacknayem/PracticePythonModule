{
 "cells": [
  {
   "cell_type": "code",
   "execution_count": 1,
   "metadata": {},
   "outputs": [],
   "source": [
    "import pandas as pd\n",
    "import numpy as np"
   ]
  },
  {
   "cell_type": "code",
   "execution_count": 2,
   "metadata": {},
   "outputs": [
    {
     "data": {
      "text/plain": [
       "2020-01-12 00:00:00    180\n",
       "2020-01-12 00:00:01    499\n",
       "2020-01-12 00:00:02    287\n",
       "2020-01-12 00:00:03    265\n",
       "2020-01-12 00:00:04    423\n",
       "                      ... \n",
       "2020-01-12 00:01:35    496\n",
       "2020-01-12 00:01:36    291\n",
       "2020-01-12 00:01:37    358\n",
       "2020-01-12 00:01:38    440\n",
       "2020-01-12 00:01:39    398\n",
       "Freq: S, Length: 100, dtype: int32"
      ]
     },
     "execution_count": 2,
     "metadata": {},
     "output_type": "execute_result"
    }
   ],
   "source": [
    "rng = pd.date_range('1/12/2020', periods=100, freq='S')\n",
    "ts = pd.Series(np.random.randint(0, 500, len(rng)), index=rng)\n",
    "ts"
   ]
  },
  {
   "cell_type": "code",
   "execution_count": null,
   "metadata": {},
   "outputs": [],
   "source": [
    "ts.resample('5min').sum()"
   ]
  },
  {
   "cell_type": "code",
   "execution_count": 13,
   "metadata": {},
   "outputs": [
    {
     "data": {
      "text/plain": [
       "1996-12-31   -1.471731\n",
       "1997-01-01    1.110813\n",
       "1997-01-02   -1.644891\n",
       "1997-01-03   -0.549615\n",
       "1997-01-04   -0.406421\n",
       "Freq: D, dtype: float64"
      ]
     },
     "execution_count": 13,
     "metadata": {},
     "output_type": "execute_result"
    }
   ],
   "source": [
    "rng = pd.date_range('31/12/1996 00:00', periods = 5, freq='D')\n",
    "ts = pd.Series(np.random.randn(len(rng)), rng)\n",
    "ts"
   ]
  },
  {
   "cell_type": "code",
   "execution_count": 14,
   "metadata": {},
   "outputs": [
    {
     "data": {
      "text/plain": [
       "1996-12-31 00:00:00+00:00   -1.471731\n",
       "1997-01-01 00:00:00+00:00    1.110813\n",
       "1997-01-02 00:00:00+00:00   -1.644891\n",
       "1997-01-03 00:00:00+00:00   -0.549615\n",
       "1997-01-04 00:00:00+00:00   -0.406421\n",
       "Freq: D, dtype: float64"
      ]
     },
     "execution_count": 14,
     "metadata": {},
     "output_type": "execute_result"
    }
   ],
   "source": [
    "ts_utc = ts.tz_localize('UTC')\n",
    "ts_utc"
   ]
  },
  {
   "cell_type": "code",
   "execution_count": 16,
   "metadata": {},
   "outputs": [
    {
     "data": {
      "text/plain": [
       "1996-12-30 19:00:00-05:00   -1.471731\n",
       "1996-12-31 19:00:00-05:00    1.110813\n",
       "1997-01-01 19:00:00-05:00   -1.644891\n",
       "1997-01-02 19:00:00-05:00   -0.549615\n",
       "1997-01-03 19:00:00-05:00   -0.406421\n",
       "Freq: D, dtype: float64"
      ]
     },
     "execution_count": 16,
     "metadata": {},
     "output_type": "execute_result"
    }
   ],
   "source": [
    "ts_utc.tz_convert('US/Eastern')"
   ]
  },
  {
   "cell_type": "code",
   "execution_count": 17,
   "metadata": {},
   "outputs": [
    {
     "data": {
      "text/plain": [
       "1996-12-31   -0.367048\n",
       "1997-01-31   -1.986993\n",
       "1997-02-28   -0.857810\n",
       "1997-03-31   -1.968455\n",
       "1997-04-30   -2.079701\n",
       "Freq: M, dtype: float64"
      ]
     },
     "execution_count": 17,
     "metadata": {},
     "output_type": "execute_result"
    }
   ],
   "source": [
    "rng = pd.date_range('31/12/1996 00:00', periods = 5, freq='M')\n",
    "ts = pd.Series(np.random.randn(len(rng)), rng)\n",
    "ts"
   ]
  },
  {
   "cell_type": "code",
   "execution_count": 18,
   "metadata": {},
   "outputs": [
    {
     "data": {
      "text/plain": [
       "1996-12   -0.367048\n",
       "1997-01   -1.986993\n",
       "1997-02   -0.857810\n",
       "1997-03   -1.968455\n",
       "1997-04   -2.079701\n",
       "Freq: M, dtype: float64"
      ]
     },
     "execution_count": 18,
     "metadata": {},
     "output_type": "execute_result"
    }
   ],
   "source": [
    "ps = ts.to_period()\n",
    "ps"
   ]
  },
  {
   "cell_type": "code",
   "execution_count": 19,
   "metadata": {},
   "outputs": [
    {
     "data": {
      "text/plain": [
       "1996-12-01   -0.367048\n",
       "1997-01-01   -1.986993\n",
       "1997-02-01   -0.857810\n",
       "1997-03-01   -1.968455\n",
       "1997-04-01   -2.079701\n",
       "Freq: MS, dtype: float64"
      ]
     },
     "execution_count": 19,
     "metadata": {},
     "output_type": "execute_result"
    }
   ],
   "source": [
    "ps.to_timestamp()"
   ]
  },
  {
   "cell_type": "code",
   "execution_count": 34,
   "metadata": {},
   "outputs": [
    {
     "data": {
      "text/plain": [
       "1996-03-01 10:00   -0.137812\n",
       "1996-06-01 10:00   -0.588151\n",
       "1996-09-01 10:00   -0.027293\n",
       "1996-12-01 10:00    1.904531\n",
       "1997-03-01 10:00   -1.479653\n",
       "Freq: H, dtype: float64"
      ]
     },
     "execution_count": 34,
     "metadata": {},
     "output_type": "execute_result"
    }
   ],
   "source": [
    "prng = pd.period_range('1996Q1', '2000Q4', freq='Q-NOV')\n",
    "ts = pd.Series(np.random.randn(len(prng)), prng)\n",
    "ts.index = (prng.asfreq('M', 'e')+1).asfreq('H', 's') + 10\n",
    "ts.head()"
   ]
  },
  {
   "cell_type": "code",
   "execution_count": null,
   "metadata": {},
   "outputs": [],
   "source": []
  },
  {
   "cell_type": "code",
   "execution_count": null,
   "metadata": {},
   "outputs": [],
   "source": []
  }
 ],
 "metadata": {
  "kernelspec": {
   "display_name": "Python 3",
   "language": "python",
   "name": "python3"
  },
  "language_info": {
   "codemirror_mode": {
    "name": "ipython",
    "version": 3
   },
   "file_extension": ".py",
   "mimetype": "text/x-python",
   "name": "python",
   "nbconvert_exporter": "python",
   "pygments_lexer": "ipython3",
   "version": "3.7.1"
  }
 },
 "nbformat": 4,
 "nbformat_minor": 4
}
