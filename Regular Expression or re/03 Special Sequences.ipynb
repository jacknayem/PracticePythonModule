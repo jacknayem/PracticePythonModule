{
 "cells": [
  {
   "cell_type": "code",
   "execution_count": 42,
   "metadata": {},
   "outputs": [],
   "source": [
    "import re"
   ]
  },
  {
   "cell_type": "code",
   "execution_count": 19,
   "metadata": {},
   "outputs": [
    {
     "data": {
      "text/plain": [
       "['The']"
      ]
     },
     "execution_count": 19,
     "metadata": {},
     "output_type": "execute_result"
    }
   ],
   "source": [
    "text = 'The word changing day by day. The part of code is privide me more fun'\n",
    "r = re.findall(r'\\AThe', text)\n",
    "r"
   ]
  },
  {
   "cell_type": "code",
   "execution_count": 20,
   "metadata": {},
   "outputs": [
    {
     "data": {
      "text/plain": [
       "'* character beginning of the string'"
      ]
     },
     "execution_count": 20,
     "metadata": {},
     "output_type": "execute_result"
    }
   ],
   "source": [
    "text = 'Specific character beginning of the string'\n",
    "re.sub(r'\\ASpecific', '*', text)"
   ]
  },
  {
   "cell_type": "code",
   "execution_count": 27,
   "metadata": {},
   "outputs": [
    {
     "data": {
      "text/plain": [
       "'Specific character _nning in word in sentense'"
      ]
     },
     "execution_count": 27,
     "metadata": {},
     "output_type": "execute_result"
    }
   ],
   "source": [
    "text = 'Specific character beginning in word in sentense'\n",
    "re.sub(r'\\bbegi','_', text)"
   ]
  },
  {
   "cell_type": "code",
   "execution_count": 24,
   "metadata": {},
   "outputs": [
    {
     "data": {
      "text/plain": [
       "'Specif_ character ending in first word in sentense'"
      ]
     },
     "execution_count": 24,
     "metadata": {},
     "output_type": "execute_result"
    }
   ],
   "source": [
    "text = 'Specific character ending in first word in sentense'\n",
    "re.sub(r'fic\\b','_', text)"
   ]
  },
  {
   "cell_type": "code",
   "execution_count": 29,
   "metadata": {},
   "outputs": [
    {
     "data": {
      "text/plain": [
       "'Specific cha_cter ending in the word'"
      ]
     },
     "execution_count": 29,
     "metadata": {},
     "output_type": "execute_result"
    }
   ],
   "source": [
    "text = 'Specific character ending in the word'\n",
    "re.sub(r'\\Bra','_', text)"
   ]
  },
  {
   "cell_type": "code",
   "execution_count": 30,
   "metadata": {},
   "outputs": [
    {
     "data": {
      "text/plain": [
       "'Specific chara_er ending in the word'"
      ]
     },
     "execution_count": 30,
     "metadata": {},
     "output_type": "execute_result"
    }
   ],
   "source": [
    "text = 'Specific character ending in the word'\n",
    "re.sub(r'ct\\B','_', text)"
   ]
  },
  {
   "cell_type": "code",
   "execution_count": 31,
   "metadata": {},
   "outputs": [
    {
     "data": {
      "text/plain": [
       "'Specifie the digital number such as -1.-1 feets'"
      ]
     },
     "execution_count": 31,
     "metadata": {},
     "output_type": "execute_result"
    }
   ],
   "source": [
    "text = 'Specifie the digital number such as 5.4 feets'\n",
    "re.sub(r'\\d', '-1', text) "
   ]
  },
  {
   "cell_type": "code",
   "execution_count": 33,
   "metadata": {},
   "outputs": [
    {
     "data": {
      "text/plain": [
       "'*************************************1*2*3*4*5'"
      ]
     },
     "execution_count": 33,
     "metadata": {},
     "output_type": "execute_result"
    }
   ],
   "source": [
    "text = 'Specifie the non digital number, not 1 2 3 4 5'\n",
    "re.sub(r'\\D', '*', text)"
   ]
  },
  {
   "cell_type": "code",
   "execution_count": 34,
   "metadata": {},
   "outputs": [
    {
     "data": {
      "text/plain": [
       "'******** ***** ***** **** ******** ** *****'"
      ]
     },
     "execution_count": 34,
     "metadata": {},
     "output_type": "execute_result"
    }
   ],
   "source": [
    "text = 'Specifie those those word charcter or digit'\n",
    "re.sub(r\"\\w\",'*', text)"
   ]
  },
  {
   "cell_type": "code",
   "execution_count": 35,
   "metadata": {},
   "outputs": [
    {
     "data": {
      "text/plain": [
       "'Specifie*those*charecter*which*are*not*word*charecter*or*digit*such*as**********'"
      ]
     },
     "execution_count": 35,
     "metadata": {},
     "output_type": "execute_result"
    }
   ],
   "source": [
    "text = 'Specifie those charecter which are not word charecter or digit such as & * % $ )'\n",
    "re.sub(r\"\\W\",'*', text)"
   ]
  },
  {
   "cell_type": "code",
   "execution_count": 37,
   "metadata": {},
   "outputs": [
    {
     "data": {
      "text/plain": [
       "'Specifie*the*white*space*******__'"
      ]
     },
     "execution_count": 37,
     "metadata": {},
     "output_type": "execute_result"
    }
   ],
   "source": [
    "text = 'Specifie the white space       __'\n",
    "re.sub(r'\\s', '*', text)"
   ]
  },
  {
   "cell_type": "code",
   "execution_count": 38,
   "metadata": {},
   "outputs": [
    {
     "data": {
      "text/plain": [
       "'******** ****** ***** ** *** ***** *****'"
      ]
     },
     "execution_count": 38,
     "metadata": {},
     "output_type": "execute_result"
    }
   ],
   "source": [
    "text = 'Specifie those, which is not white space'\n",
    "re.sub(r'\\S', '*', text)"
   ]
  },
  {
   "cell_type": "code",
   "execution_count": 41,
   "metadata": {},
   "outputs": [
    {
     "data": {
      "text/plain": [
       "'Find specific word'"
      ]
     },
     "execution_count": 41,
     "metadata": {},
     "output_type": "execute_result"
    }
   ],
   "source": [
    "text = 'Find specific word'\n",
    "re.sub(r'string\\Z', '_*_', text)"
   ]
  },
  {
   "cell_type": "code",
   "execution_count": 81,
   "metadata": {},
   "outputs": [],
   "source": [
    "from spellchecker import SpellChecker\n",
    "\n",
    "document = []\n",
    "def spell_correction(text):\n",
    "    doc = text.split()\n",
    "    misSpelled_words = spell_corrector.unknown(doc)\n",
    "    for index in range(len(doc)):\n",
    "        if doc[index] in misSpelled_words:\n",
    "            doc[index] = SpellChecker().correction(doc[index])\n",
    "    doc = ' '.join(doc)\n",
    "    document.append(doc)\n",
    "    return document\n",
    "\n",
    "#example text with mis spelling words\n",
    "ex_misSpell_words = \"\"\"\n",
    "Ahh, Hello Witzeman \\n\\n203.92.84.161  \\nSymbols: ~ | Â¡ Â¿ â\\x80\\xa0 â\\x80¡ â\\x86\\x94 â\\x86\\x91 â\\x86\\x93 â\\x80¢ Â¶   # Â½ â\\x85\\x93 â\\x85\\x94 Â¼ Â¾ â\\x85\\x9b â\\x85\\x9c\n",
    "This is an example sentence for spell corecton\n",
    "\"\"\"\n",
    "spell_result = spell_correction(ex_misSpell_words)\n",
    "print(f\"Result after spell checking :- \\n{spell_result}\")\n",
    "print('Done')"
   ]
  },
  {
   "cell_type": "code",
   "execution_count": 80,
   "metadata": {},
   "outputs": [
    {
     "name": "stdout",
     "output_type": "stream",
     "text": [
      "Result text after removing emojis :- \n",
      "\n",
      "This is a test  \n",
      "\n"
     ]
    }
   ],
   "source": [
    "def remove_emojis(text):\n",
    "\temoji_pattern = re.compile(\"[\"\n",
    "                               u\"\\U0001F600-\\U0001F64F\"  # emoticons\n",
    "                               u\"\\U0001F300-\\U0001F5FF\"  # symbols & pictographs\n",
    "                               u\"\\U0001F680-\\U0001F6FF\"  # transport & map symbols\n",
    "                               u\"\\U0001F1E0-\\U0001F1FF\"  # flags (iOS)\n",
    "                               u\"\\U00002500-\\U00002BEF\"  # chinese char\n",
    "                               u\"\\U00002702-\\U000027B0\"\n",
    "                               u\"\\U00002702-\\U000027B0\"\n",
    "                               u\"\\U000024C2-\\U0001F251\"\n",
    "                               u\"\\U0001f926-\\U0001f937\"\n",
    "                               u\"\\U00010000-\\U0010ffff\"\n",
    "                               u\"\\u2640-\\u2642\"\n",
    "                               u\"\\u2600-\\u2B55\"\n",
    "                               u\"\\u200d\"\n",
    "                               u\"\\u23cf\"\n",
    "                               u\"\\u23e9\"\n",
    "                               u\"\\u231a\"\n",
    "                               u\"\\ufe0f\"  # dingbats\n",
    "                               u\"\\u3030\"\n",
    "                               \"]+\", flags=re.UNICODE)\n",
    "\n",
    "\twithout_emoji = emoji_pattern.sub(r'',text)\n",
    "\treturn without_emoji\n",
    "\n",
    "\n",
    "# example text for emoji removing technique\n",
    "ex_emoji = \"\"\"\n",
    "This is a test 😻 👍🏿\n",
    "\"\"\"\n",
    "# calling function\n",
    "emoji_result = remove_emojis(ex_emoji)\n",
    "print(f\"Result text after removing emojis :- \\n{emoji_result}\")"
   ]
  },
  {
   "cell_type": "code",
   "execution_count": 90,
   "metadata": {},
   "outputs": [
    {
     "data": {
      "text/plain": [
       "['ahh',\n",
       " 'hello',\n",
       " 'witzeman',\n",
       " 'two',\n",
       " 'hundred',\n",
       " 'and',\n",
       " 'three',\n",
       " 'ninety-two',\n",
       " 'eighty-four',\n",
       " 'one',\n",
       " 'hundred',\n",
       " 'and',\n",
       " 'sixty-one',\n",
       " 'symbol',\n",
       " '',\n",
       " '',\n",
       " '',\n",
       " '',\n",
       " '',\n",
       " '1/2',\n",
       " '',\n",
       " '1/4',\n",
       " '3/4',\n",
       " '',\n",
       " '',\n",
       " '',\n",
       " '',\n",
       " '',\n",
       " '',\n",
       " 'three',\n",
       " '',\n",
       " '',\n",
       " '',\n",
       " '',\n",
       " '',\n",
       " 'ae',\n",
       " '',\n",
       " '',\n",
       " 'three',\n",
       " '',\n",
       " '',\n",
       " '',\n",
       " '',\n",
       " '',\n",
       " 'three',\n",
       " '',\n",
       " '',\n",
       " '',\n",
       " 'ma2',\n",
       " 'ma3',\n",
       " 'character',\n",
       " '',\n",
       " '',\n",
       " '',\n",
       " '',\n",
       " 'a1',\n",
       " 'ao',\n",
       " '',\n",
       " 'a3',\n",
       " '',\n",
       " '',\n",
       " 'ao',\n",
       " '',\n",
       " '1/2',\n",
       " 'a1',\n",
       " 'ao',\n",
       " '',\n",
       " '',\n",
       " '',\n",
       " 'a2',\n",
       " 'a1',\n",
       " '',\n",
       " '',\n",
       " 'aa',\n",
       " '',\n",
       " '',\n",
       " '',\n",
       " 'au',\n",
       " '',\n",
       " '',\n",
       " '',\n",
       " 'au',\n",
       " '',\n",
       " '',\n",
       " '',\n",
       " '',\n",
       " '',\n",
       " '',\n",
       " '1/4',\n",
       " '',\n",
       " '',\n",
       " 'ao',\n",
       " '1/4',\n",
       " 'ao',\n",
       " '1/2',\n",
       " '',\n",
       " '',\n",
       " 'au',\n",
       " '',\n",
       " '',\n",
       " 'one',\n",
       " '',\n",
       " '',\n",
       " '',\n",
       " '',\n",
       " '1/4',\n",
       " '',\n",
       " '',\n",
       " '',\n",
       " '',\n",
       " '',\n",
       " '',\n",
       " '',\n",
       " '',\n",
       " '',\n",
       " '',\n",
       " '',\n",
       " '1/2',\n",
       " '3/4',\n",
       " '',\n",
       " '',\n",
       " '',\n",
       " '',\n",
       " '',\n",
       " '',\n",
       " '1/2',\n",
       " '3/4',\n",
       " '',\n",
       " '',\n",
       " 'aa',\n",
       " '',\n",
       " 'aa',\n",
       " 'e2',\n",
       " 'e3',\n",
       " '',\n",
       " '',\n",
       " '',\n",
       " '',\n",
       " '',\n",
       " '',\n",
       " '',\n",
       " '',\n",
       " '',\n",
       " '',\n",
       " '',\n",
       " '',\n",
       " '',\n",
       " '',\n",
       " '1/4',\n",
       " '',\n",
       " '',\n",
       " '',\n",
       " 'ca',\n",
       " 'a2',\n",
       " 'a3',\n",
       " '',\n",
       " '',\n",
       " '',\n",
       " '',\n",
       " 'one',\n",
       " 'a1',\n",
       " 'a1',\n",
       " 'a1',\n",
       " 'a1',\n",
       " 'a1',\n",
       " 'a1',\n",
       " 'a1',\n",
       " 'a1',\n",
       " 'a1',\n",
       " 'a1',\n",
       " 'a1',\n",
       " 'a1',\n",
       " '',\n",
       " '',\n",
       " '',\n",
       " '',\n",
       " '',\n",
       " '',\n",
       " '',\n",
       " '3/4',\n",
       " '',\n",
       " '',\n",
       " '',\n",
       " '',\n",
       " 'ae',\n",
       " 'greek',\n",
       " '',\n",
       " '',\n",
       " '',\n",
       " '',\n",
       " '',\n",
       " '',\n",
       " '',\n",
       " '',\n",
       " 'i2',\n",
       " 'i3',\n",
       " '',\n",
       " 'iu',\n",
       " '',\n",
       " '',\n",
       " '',\n",
       " 'i1',\n",
       " 'io',\n",
       " '',\n",
       " '',\n",
       " '1/4',\n",
       " '',\n",
       " '1/2',\n",
       " '',\n",
       " '3/4',\n",
       " '',\n",
       " '',\n",
       " '',\n",
       " '',\n",
       " '',\n",
       " '',\n",
       " '',\n",
       " '',\n",
       " '',\n",
       " '',\n",
       " 'cyrillic',\n",
       " '',\n",
       " '',\n",
       " 'd2',\n",
       " 'd3',\n",
       " '',\n",
       " '',\n",
       " '',\n",
       " '',\n",
       " 'du',\n",
       " '',\n",
       " '',\n",
       " '',\n",
       " '',\n",
       " '',\n",
       " '',\n",
       " '',\n",
       " '',\n",
       " 'd1',\n",
       " '',\n",
       " 'do',\n",
       " '',\n",
       " '',\n",
       " '',\n",
       " '',\n",
       " '1/4',\n",
       " '',\n",
       " '1/2',\n",
       " '',\n",
       " '',\n",
       " '3/4',\n",
       " '',\n",
       " '',\n",
       " '',\n",
       " '',\n",
       " '',\n",
       " '',\n",
       " '',\n",
       " '',\n",
       " '',\n",
       " '',\n",
       " '',\n",
       " '',\n",
       " '',\n",
       " '',\n",
       " 'da',\n",
       " '',\n",
       " '',\n",
       " '',\n",
       " '',\n",
       " '',\n",
       " 'ipa',\n",
       " 'tia',\n",
       " 'dia',\n",
       " '',\n",
       " '',\n",
       " '',\n",
       " '',\n",
       " '',\n",
       " '',\n",
       " '',\n",
       " '',\n",
       " '',\n",
       " '',\n",
       " '',\n",
       " 'e3',\n",
       " 'e2',\n",
       " '',\n",
       " 'e1',\n",
       " '',\n",
       " '',\n",
       " '3/4',\n",
       " '1/2',\n",
       " '',\n",
       " 'eo',\n",
       " '',\n",
       " '',\n",
       " '',\n",
       " '',\n",
       " '',\n",
       " '',\n",
       " '',\n",
       " '',\n",
       " '',\n",
       " 'ea',\n",
       " '',\n",
       " 'eu',\n",
       " '',\n",
       " '',\n",
       " '',\n",
       " '',\n",
       " '',\n",
       " '',\n",
       " '',\n",
       " 'e2',\n",
       " '',\n",
       " '',\n",
       " '',\n",
       " '',\n",
       " 'ia',\n",
       " 'my',\n",
       " 'famous']"
      ]
     },
     "execution_count": 90,
     "metadata": {},
     "output_type": "execute_result"
    }
   ],
   "source": [
    "comment = \"ahh hello witzeman two hundred and three ninety-two eighty-four one hundred and sixty-one symbol a a a a a a a a a a 1/2 a a a 1/4 a 3/4 a a a a a a a a a a a a a three a a u a a a a a a a a ae a a a a three a a a a a a a a a a a three a a a a a a a ma2 ma3 character a a a a a a a a a1 ao a a a a3 a a a a a ao a a 1/2 a1 ao a a a a a a a a2 a a1 a a a a a aa a a a a a a a au a a a a a a a au a a a a a a a a a a a a 1/4 a a a a a ao 1/4 ao 1/2 a a a a a au a a a a one a a a a a a a a 1/4 a a a a a a a a a a a a c c a a a a a a c c a 1/2 a 3/4 a a c c a a a a a a c c a 1/2 a 3/4 a a a a aa a a a aa a e2 e3 c c c c c c a a a a a a a a a a a a a a a a a a a a a a 1/4 a a a a a a ca c a2 a3 a a a a a a a a one a1 a1 a1 a1 a1 a1 a1 a1 a1 a1 a1 a1 a a a a a a a a a a a a a a 3/4 a a a a a a a a ae e greek i i i i i i i i i i i i i i i i i i2 i i3 i i i iu i i i i i i i i1 i io i i i i 1/4 i i 1/2 i i 3/4 i i i i i i i i i i i i i i i i i i i i i cyrillic d d d d d d2 d d3 o o d n d d d n d du d n d n d d d d d n d d d n d n d d1 d n d do d n d d d n d d 1/4 d d 1/2 d n d d 3/4 d d d n d n d n d n d n d n d n d n d n d n d n d n d n da n d n d n d n d n d n ipa tia dia e e e e e e e e e e e e e e e e e e e e e e e3 e2 a e e e1 e e e e e 3/4 e 1/2 e e e eo e e e e e e e e e e e e c c c c e e e ea e e e eu e e e e e e e e e e e e e e e e2 e e a e e e e e ia my famous\"\n",
    "comment = re.sub(r'\\s+[a-zA-Z]\\s+', ' ', comment)\n",
    "comment = comment.split()\n",
    "for index in range(len(comment)):\n",
    "    if len(comment[index]) == 1:\n",
    "        comment[index] = ''\n",
    "comment"
   ]
  },
  {
   "cell_type": "code",
   "execution_count": null,
   "metadata": {},
   "outputs": [],
   "source": []
  }
 ],
 "metadata": {
  "kernelspec": {
   "display_name": "Python 3",
   "language": "python",
   "name": "python3"
  },
  "language_info": {
   "codemirror_mode": {
    "name": "ipython",
    "version": 3
   },
   "file_extension": ".py",
   "mimetype": "text/x-python",
   "name": "python",
   "nbconvert_exporter": "python",
   "pygments_lexer": "ipython3",
   "version": "3.7.1"
  }
 },
 "nbformat": 4,
 "nbformat_minor": 4
}
